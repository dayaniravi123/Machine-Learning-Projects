{
  "nbformat": 4,
  "nbformat_minor": 0,
  "metadata": {
    "colab": {
      "name": "Live Cell Problem.ipynb",
      "provenance": [],
      "collapsed_sections": [],
      "authorship_tag": "ABX9TyPjF5kKNjnWegbbKvAXZNtM",
      "include_colab_link": true
    },
    "kernelspec": {
      "name": "python3",
      "display_name": "Python 3"
    },
    "language_info": {
      "name": "python"
    }
  },
  "cells": [
    {
      "cell_type": "markdown",
      "metadata": {
        "id": "view-in-github",
        "colab_type": "text"
      },
      "source": [
        "<a href=\"https://colab.research.google.com/github/dayaniravi123/Machine-Learning-Projects/blob/main/Live_Cell_Problem.ipynb\" target=\"_parent\"><img src=\"https://colab.research.google.com/assets/colab-badge.svg\" alt=\"Open In Colab\"/></a>"
      ]
    },
    {
      "cell_type": "markdown",
      "source": [
        "In this competition we are segmenting neuronal cells in images. The training annotations are provided as run length encoded masks, and the images are in PNG format. The number of images is small, but the number of annotated objects is quite high. The hidden test set is roughly 240 images.\n",
        "\n",
        "Note: while predictions are not allowed to overlap, the training labels are provided in full (with overlapping portions included). This is to ensure that models are provided the full data for each object. Removing overlap in predictions is a task for the competitor.\n",
        "\n",
        "Files\n",
        "train.csv - IDs and masks for all training objects. None of this metadata is provided for the test set.\n",
        "\n",
        "id - unique identifier for object\n",
        "\n",
        "annotation - run length encoded pixels for the identified neuronal cell\n",
        "\n",
        "width - source image width\n",
        "\n",
        "height - source image height\n",
        "\n",
        "cell_type - the cell line\n",
        "\n",
        "plate_time - time plate was created\n",
        "\n",
        "sample_date - date sample was created\n",
        "\n",
        "sample_id - sample identifier\n",
        "\n",
        "elapsed_timedelta - time since first image taken of sample\n",
        "\n",
        "sample_submission.csv - a sample submission file in the correct format\n",
        "\n",
        "train - train images in PNG format\n",
        "\n",
        "test - test images in PNG format. Only a few test set images are available for download; the remainder can only be accessed by your notebooks when you submit.\n",
        "\n",
        "train_semi_supervised - unlabeled images offered in case you want to use additional data for a semi-supervised approach.\n",
        "\n",
        "LIVECell_dataset_2021 - A mirror of the data from the LIVECell dataset. LIVECell is the predecessor dataset to this competition. You will find extra data for the SH-SHY5Y cell line, plus several other cell lines not covered in the competition dataset that may be of interest for transfer learning."
      ],
      "metadata": {
        "id": "VeBZFhgFNFQg"
      }
    },
    {
      "cell_type": "code",
      "source": [
        ""
      ],
      "metadata": {
        "id": "D_0RfyulNPbI"
      },
      "execution_count": null,
      "outputs": []
    }
  ]
}