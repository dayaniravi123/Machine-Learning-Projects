{
  "nbformat": 4,
  "nbformat_minor": 0,
  "metadata": {
    "colab": {
      "name": "NLP Problem - IMDB.ipynb",
      "provenance": [],
      "collapsed_sections": [],
      "mount_file_id": "1lJLgqN-xvMPcTfMh13ksdc5Oeuc_iQS1",
      "authorship_tag": "ABX9TyPh2Nmvps1TJVJwTJrhKagy",
      "include_colab_link": true
    },
    "kernelspec": {
      "name": "python3",
      "display_name": "Python 3"
    },
    "language_info": {
      "name": "python"
    },
    "accelerator": "GPU"
  },
  "cells": [
    {
      "cell_type": "markdown",
      "metadata": {
        "id": "view-in-github",
        "colab_type": "text"
      },
      "source": [
        "<a href=\"https://colab.research.google.com/github/dayaniravi123/Machine-Learning-Projects/blob/main/NLP_Problem_IMDB.ipynb\" target=\"_parent\"><img src=\"https://colab.research.google.com/assets/colab-badge.svg\" alt=\"Open In Colab\"/></a>"
      ]
    },
    {
      "cell_type": "code",
      "source": [
        "!pip install tensorflow_text\n",
        "\n",
        "\n"
      ],
      "metadata": {
        "id": "3Bl2c1LLKJbG"
      },
      "execution_count": null,
      "outputs": []
    },
    {
      "cell_type": "code",
      "execution_count": 2,
      "metadata": {
        "id": "EJm1Bj2Lzps4",
        "colab": {
          "base_uri": "https://localhost:8080/"
        },
        "outputId": "02b1d3d7-5bd1-4184-b25d-598f5c7cba20"
      },
      "outputs": [
        {
          "output_type": "stream",
          "name": "stdout",
          "text": [
            "[nltk_data] Downloading package stopwords to /root/nltk_data...\n",
            "[nltk_data]   Unzipping corpora/stopwords.zip.\n"
          ]
        }
      ],
      "source": [
        "import tensorflow as tf\n",
        "import pandas as pd\n",
        "import numpy as np\n",
        "\n",
        "\n",
        "import tensorflow_text as tf_text\n",
        "from tensorflow.keras import layers\n",
        "import re\n",
        "import string\n",
        "import nltk\n",
        "import matplotlib.pyplot as plt\n",
        "\n",
        "\n",
        "nltk.download('stopwords')\n",
        "\n",
        "from nltk.corpus import stopwords\n",
        "from sklearn.pipeline import Pipeline\n",
        "from sklearn.naive_bayes import MultinomialNB\n",
        "from sklearn.feature_extraction.text import TfidfTransformer\n",
        "from nltk.stem import PorterStemmer\n",
        "\n",
        "from sklearn.feature_extraction.text import CountVectorizer\n",
        "from sklearn.linear_model import SGDClassifier\n",
        "from sklearn.neural_network import MLPClassifier\n",
        "from sklearn.model_selection import train_test_split"
      ]
    },
    {
      "cell_type": "code",
      "source": [
        "dataset = pd.read_csv('/content/drive/MyDrive/Machine Learning - Tensorflow /NLP - IMDB/IMDB Dataset.csv')\n",
        "\n",
        "dataset"
      ],
      "metadata": {
        "colab": {
          "base_uri": "https://localhost:8080/",
          "height": 424
        },
        "id": "P2PdI9ftzwsE",
        "outputId": "0a674c7b-8f40-4b53-cfaf-7ff7d5d1551c"
      },
      "execution_count": 3,
      "outputs": [
        {
          "output_type": "execute_result",
          "data": {
            "text/html": [
              "\n",
              "  <div id=\"df-eabf76e4-7934-414c-a984-e9b9e896153d\">\n",
              "    <div class=\"colab-df-container\">\n",
              "      <div>\n",
              "<style scoped>\n",
              "    .dataframe tbody tr th:only-of-type {\n",
              "        vertical-align: middle;\n",
              "    }\n",
              "\n",
              "    .dataframe tbody tr th {\n",
              "        vertical-align: top;\n",
              "    }\n",
              "\n",
              "    .dataframe thead th {\n",
              "        text-align: right;\n",
              "    }\n",
              "</style>\n",
              "<table border=\"1\" class=\"dataframe\">\n",
              "  <thead>\n",
              "    <tr style=\"text-align: right;\">\n",
              "      <th></th>\n",
              "      <th>review</th>\n",
              "      <th>sentiment</th>\n",
              "    </tr>\n",
              "  </thead>\n",
              "  <tbody>\n",
              "    <tr>\n",
              "      <th>0</th>\n",
              "      <td>One of the other reviewers has mentioned that ...</td>\n",
              "      <td>positive</td>\n",
              "    </tr>\n",
              "    <tr>\n",
              "      <th>1</th>\n",
              "      <td>A wonderful little production. &lt;br /&gt;&lt;br /&gt;The...</td>\n",
              "      <td>positive</td>\n",
              "    </tr>\n",
              "    <tr>\n",
              "      <th>2</th>\n",
              "      <td>I thought this was a wonderful way to spend ti...</td>\n",
              "      <td>positive</td>\n",
              "    </tr>\n",
              "    <tr>\n",
              "      <th>3</th>\n",
              "      <td>Basically there's a family where a little boy ...</td>\n",
              "      <td>negative</td>\n",
              "    </tr>\n",
              "    <tr>\n",
              "      <th>4</th>\n",
              "      <td>Petter Mattei's \"Love in the Time of Money\" is...</td>\n",
              "      <td>positive</td>\n",
              "    </tr>\n",
              "    <tr>\n",
              "      <th>...</th>\n",
              "      <td>...</td>\n",
              "      <td>...</td>\n",
              "    </tr>\n",
              "    <tr>\n",
              "      <th>49995</th>\n",
              "      <td>I thought this movie did a down right good job...</td>\n",
              "      <td>positive</td>\n",
              "    </tr>\n",
              "    <tr>\n",
              "      <th>49996</th>\n",
              "      <td>Bad plot, bad dialogue, bad acting, idiotic di...</td>\n",
              "      <td>negative</td>\n",
              "    </tr>\n",
              "    <tr>\n",
              "      <th>49997</th>\n",
              "      <td>I am a Catholic taught in parochial elementary...</td>\n",
              "      <td>negative</td>\n",
              "    </tr>\n",
              "    <tr>\n",
              "      <th>49998</th>\n",
              "      <td>I'm going to have to disagree with the previou...</td>\n",
              "      <td>negative</td>\n",
              "    </tr>\n",
              "    <tr>\n",
              "      <th>49999</th>\n",
              "      <td>No one expects the Star Trek movies to be high...</td>\n",
              "      <td>negative</td>\n",
              "    </tr>\n",
              "  </tbody>\n",
              "</table>\n",
              "<p>50000 rows × 2 columns</p>\n",
              "</div>\n",
              "      <button class=\"colab-df-convert\" onclick=\"convertToInteractive('df-eabf76e4-7934-414c-a984-e9b9e896153d')\"\n",
              "              title=\"Convert this dataframe to an interactive table.\"\n",
              "              style=\"display:none;\">\n",
              "        \n",
              "  <svg xmlns=\"http://www.w3.org/2000/svg\" height=\"24px\"viewBox=\"0 0 24 24\"\n",
              "       width=\"24px\">\n",
              "    <path d=\"M0 0h24v24H0V0z\" fill=\"none\"/>\n",
              "    <path d=\"M18.56 5.44l.94 2.06.94-2.06 2.06-.94-2.06-.94-.94-2.06-.94 2.06-2.06.94zm-11 1L8.5 8.5l.94-2.06 2.06-.94-2.06-.94L8.5 2.5l-.94 2.06-2.06.94zm10 10l.94 2.06.94-2.06 2.06-.94-2.06-.94-.94-2.06-.94 2.06-2.06.94z\"/><path d=\"M17.41 7.96l-1.37-1.37c-.4-.4-.92-.59-1.43-.59-.52 0-1.04.2-1.43.59L10.3 9.45l-7.72 7.72c-.78.78-.78 2.05 0 2.83L4 21.41c.39.39.9.59 1.41.59.51 0 1.02-.2 1.41-.59l7.78-7.78 2.81-2.81c.8-.78.8-2.07 0-2.86zM5.41 20L4 18.59l7.72-7.72 1.47 1.35L5.41 20z\"/>\n",
              "  </svg>\n",
              "      </button>\n",
              "      \n",
              "  <style>\n",
              "    .colab-df-container {\n",
              "      display:flex;\n",
              "      flex-wrap:wrap;\n",
              "      gap: 12px;\n",
              "    }\n",
              "\n",
              "    .colab-df-convert {\n",
              "      background-color: #E8F0FE;\n",
              "      border: none;\n",
              "      border-radius: 50%;\n",
              "      cursor: pointer;\n",
              "      display: none;\n",
              "      fill: #1967D2;\n",
              "      height: 32px;\n",
              "      padding: 0 0 0 0;\n",
              "      width: 32px;\n",
              "    }\n",
              "\n",
              "    .colab-df-convert:hover {\n",
              "      background-color: #E2EBFA;\n",
              "      box-shadow: 0px 1px 2px rgba(60, 64, 67, 0.3), 0px 1px 3px 1px rgba(60, 64, 67, 0.15);\n",
              "      fill: #174EA6;\n",
              "    }\n",
              "\n",
              "    [theme=dark] .colab-df-convert {\n",
              "      background-color: #3B4455;\n",
              "      fill: #D2E3FC;\n",
              "    }\n",
              "\n",
              "    [theme=dark] .colab-df-convert:hover {\n",
              "      background-color: #434B5C;\n",
              "      box-shadow: 0px 1px 3px 1px rgba(0, 0, 0, 0.15);\n",
              "      filter: drop-shadow(0px 1px 2px rgba(0, 0, 0, 0.3));\n",
              "      fill: #FFFFFF;\n",
              "    }\n",
              "  </style>\n",
              "\n",
              "      <script>\n",
              "        const buttonEl =\n",
              "          document.querySelector('#df-eabf76e4-7934-414c-a984-e9b9e896153d button.colab-df-convert');\n",
              "        buttonEl.style.display =\n",
              "          google.colab.kernel.accessAllowed ? 'block' : 'none';\n",
              "\n",
              "        async function convertToInteractive(key) {\n",
              "          const element = document.querySelector('#df-eabf76e4-7934-414c-a984-e9b9e896153d');\n",
              "          const dataTable =\n",
              "            await google.colab.kernel.invokeFunction('convertToInteractive',\n",
              "                                                     [key], {});\n",
              "          if (!dataTable) return;\n",
              "\n",
              "          const docLinkHtml = 'Like what you see? Visit the ' +\n",
              "            '<a target=\"_blank\" href=https://colab.research.google.com/notebooks/data_table.ipynb>data table notebook</a>'\n",
              "            + ' to learn more about interactive tables.';\n",
              "          element.innerHTML = '';\n",
              "          dataTable['output_type'] = 'display_data';\n",
              "          await google.colab.output.renderOutput(dataTable, element);\n",
              "          const docLink = document.createElement('div');\n",
              "          docLink.innerHTML = docLinkHtml;\n",
              "          element.appendChild(docLink);\n",
              "        }\n",
              "      </script>\n",
              "    </div>\n",
              "  </div>\n",
              "  "
            ],
            "text/plain": [
              "                                                  review sentiment\n",
              "0      One of the other reviewers has mentioned that ...  positive\n",
              "1      A wonderful little production. <br /><br />The...  positive\n",
              "2      I thought this was a wonderful way to spend ti...  positive\n",
              "3      Basically there's a family where a little boy ...  negative\n",
              "4      Petter Mattei's \"Love in the Time of Money\" is...  positive\n",
              "...                                                  ...       ...\n",
              "49995  I thought this movie did a down right good job...  positive\n",
              "49996  Bad plot, bad dialogue, bad acting, idiotic di...  negative\n",
              "49997  I am a Catholic taught in parochial elementary...  negative\n",
              "49998  I'm going to have to disagree with the previou...  negative\n",
              "49999  No one expects the Star Trek movies to be high...  negative\n",
              "\n",
              "[50000 rows x 2 columns]"
            ]
          },
          "metadata": {},
          "execution_count": 3
        }
      ]
    },
    {
      "cell_type": "code",
      "source": [
        "tokenizer = tf_text.UnicodeScriptTokenizer()\n",
        "\n",
        "db = []\n",
        "\n",
        "for i in range(100):\n",
        "  temp = tokenizer.tokenize(dataset['review'][i])\n",
        "  db.append(temp)"
      ],
      "metadata": {
        "id": "JwLQbL79JuIm"
      },
      "execution_count": 6,
      "outputs": []
    },
    {
      "cell_type": "code",
      "source": [
        "temp = dataset['review'][0]\n",
        "print(temp)\n",
        "\n",
        "\n",
        "temp = [c for c in temp if c not in string.punctuation]\n",
        "temp = ''.join(temp)\n",
        "\n",
        "stemmer = nltk.porter.PorterStemmer()\n",
        "temp = ' '.join([stemmer.stem(word) for word in temp.split()])\n",
        "    \n",
        "print(temp)\n"
      ],
      "metadata": {
        "colab": {
          "base_uri": "https://localhost:8080/"
        },
        "id": "6YP2NCz4Jtns",
        "outputId": "8141cd08-a675-473d-ba69-1219e8d73f11"
      },
      "execution_count": 7,
      "outputs": [
        {
          "output_type": "stream",
          "name": "stdout",
          "text": [
            "One of the other reviewers has mentioned that after watching just 1 Oz episode you'll be hooked. They are right, as this is exactly what happened with me.<br /><br />The first thing that struck me about Oz was its brutality and unflinching scenes of violence, which set in right from the word GO. Trust me, this is not a show for the faint hearted or timid. This show pulls no punches with regards to drugs, sex or violence. Its is hardcore, in the classic use of the word.<br /><br />It is called OZ as that is the nickname given to the Oswald Maximum Security State Penitentary. It focuses mainly on Emerald City, an experimental section of the prison where all the cells have glass fronts and face inwards, so privacy is not high on the agenda. Em City is home to many..Aryans, Muslims, gangstas, Latinos, Christians, Italians, Irish and more....so scuffles, death stares, dodgy dealings and shady agreements are never far away.<br /><br />I would say the main appeal of the show is due to the fact that it goes where other shows wouldn't dare. Forget pretty pictures painted for mainstream audiences, forget charm, forget romance...OZ doesn't mess around. The first episode I ever saw struck me as so nasty it was surreal, I couldn't say I was ready for it, but as I watched more, I developed a taste for Oz, and got accustomed to the high levels of graphic violence. Not just violence, but injustice (crooked guards who'll be sold out for a nickel, inmates who'll kill on order and get away with it, well mannered, middle class inmates being turned into prison bitches due to their lack of street skills or prison experience) Watching Oz, you may become comfortable with what is uncomfortable viewing....thats if you can get in touch with your darker side.\n",
            "one of the other review ha mention that after watch just 1 Oz episod youll be hook they are right as thi is exactli what happen with mebr br the first thing that struck me about Oz wa it brutal and unflinch scene of violenc which set in right from the word GO trust me thi is not a show for the faint heart or timid thi show pull no punch with regard to drug sex or violenc it is hardcor in the classic use of the wordbr br It is call OZ as that is the nicknam given to the oswald maximum secur state penitentari It focus mainli on emerald citi an experiment section of the prison where all the cell have glass front and face inward so privaci is not high on the agenda Em citi is home to manyaryan muslim gangsta latino christian italian irish and moreso scuffl death stare dodgi deal and shadi agreement are never far awaybr br I would say the main appeal of the show is due to the fact that it goe where other show wouldnt dare forget pretti pictur paint for mainstream audienc forget charm forget romanceoz doesnt mess around the first episod I ever saw struck me as so nasti it wa surreal I couldnt say I wa readi for it but as I watch more I develop a tast for Oz and got accustom to the high level of graphic violenc not just violenc but injustic crook guard wholl be sold out for a nickel inmat wholl kill on order and get away with it well manner middl class inmat be turn into prison bitch due to their lack of street skill or prison experi watch Oz you may becom comfort with what is uncomfort viewingthat if you can get in touch with your darker side\n"
          ]
        }
      ]
    },
    {
      "cell_type": "code",
      "source": [
        "NLP_model = Pipeline([\n",
        "                      ('counter', CountVectorizer(stop_words='english')),\n",
        "                      ('tf-idf', TfidfTransformer()),\n",
        "                      ('svm', SGDClassifier(loss= 'hinge', penalty='l2', alpha= 1e-3, random_state= 42))\n",
        "                    ])\n",
        "\n",
        "NLP_model.fit(dataset['review'], dataset['sentiment'])"
      ],
      "metadata": {
        "id": "2SL8CFgM8OKP",
        "colab": {
          "base_uri": "https://localhost:8080/"
        },
        "outputId": "32c635e7-6184-459d-aa89-a7b5975322e7"
      },
      "execution_count": 4,
      "outputs": [
        {
          "output_type": "execute_result",
          "data": {
            "text/plain": [
              "Pipeline(steps=[('counter', CountVectorizer(stop_words='english')),\n",
              "                ('tf-idf', TfidfTransformer()),\n",
              "                ('svm', SGDClassifier(alpha=0.001, random_state=42))])"
            ]
          },
          "metadata": {},
          "execution_count": 4
        }
      ]
    },
    {
      "cell_type": "code",
      "source": [
        "prediction = NLP_model.predict(dataset['review'])\n",
        "\n",
        "np.mean(prediction == dataset['sentiment'])"
      ],
      "metadata": {
        "colab": {
          "base_uri": "https://localhost:8080/"
        },
        "id": "2Ut2vw59RLb3",
        "outputId": "12704c0d-2903-4c1a-8084-ce646005950a"
      },
      "execution_count": 5,
      "outputs": [
        {
          "output_type": "execute_result",
          "data": {
            "text/plain": [
              "0.84622"
            ]
          },
          "metadata": {},
          "execution_count": 5
        }
      ]
    },
    {
      "cell_type": "code",
      "source": [
        "NLP_model = Pipeline([\n",
        "                      ('counter', CountVectorizer(stop_words='english')),\n",
        "                      ('tf-idf', TfidfTransformer()),\n",
        "                      ('NNClassifier', MLPClassifier(alpha=1e-5, hidden_layer_sizes=(10, 5), random_state=42))\n",
        "                    ])\n",
        "\n",
        "NLP_model.fit(dataset['review'], dataset['sentiment'])\n",
        "\n"
      ],
      "metadata": {
        "colab": {
          "base_uri": "https://localhost:8080/"
        },
        "id": "RfDXVVZ-RbjD",
        "outputId": "98475449-ea3b-4f1d-bb94-c96aa2992f3a"
      },
      "execution_count": 6,
      "outputs": [
        {
          "output_type": "execute_result",
          "data": {
            "text/plain": [
              "Pipeline(steps=[('counter', CountVectorizer(stop_words='english')),\n",
              "                ('tf-idf', TfidfTransformer()),\n",
              "                ('NNClassifier',\n",
              "                 MLPClassifier(alpha=1e-05, hidden_layer_sizes=(10, 5),\n",
              "                               random_state=42))])"
            ]
          },
          "metadata": {},
          "execution_count": 6
        }
      ]
    },
    {
      "cell_type": "code",
      "source": [
        "prediction = NLP_model.predict(dataset['review'])\n",
        "\n",
        "np.mean(prediction == dataset['sentiment'])"
      ],
      "metadata": {
        "colab": {
          "base_uri": "https://localhost:8080/"
        },
        "id": "r8Vndy_PRssp",
        "outputId": "87d8c471-8bd2-4f97-9dd6-8d5bd7934e0b"
      },
      "execution_count": 7,
      "outputs": [
        {
          "output_type": "execute_result",
          "data": {
            "text/plain": [
              "1.0"
            ]
          },
          "metadata": {},
          "execution_count": 7
        }
      ]
    },
    {
      "cell_type": "code",
      "source": [
        "## Split dataset into train and test dataset\n",
        "\n",
        "X_train, X_test, y_train, y_test = train_test_split(dataset['review'], dataset['sentiment'], test_size=0.25, random_state=42)"
      ],
      "metadata": {
        "id": "0VIsmi4jWsp0"
      },
      "execution_count": 8,
      "outputs": []
    },
    {
      "cell_type": "code",
      "source": [
        "## Apply Neural network model on train dataset\n",
        "\n",
        "NLP_model.fit(X_train, y_train)"
      ],
      "metadata": {
        "colab": {
          "base_uri": "https://localhost:8080/"
        },
        "id": "ogNTedtqXRTo",
        "outputId": "abfb1268-d9f5-4e15-afca-93df2c5b0800"
      },
      "execution_count": 9,
      "outputs": [
        {
          "output_type": "execute_result",
          "data": {
            "text/plain": [
              "Pipeline(steps=[('counter', CountVectorizer(stop_words='english')),\n",
              "                ('tf-idf', TfidfTransformer()),\n",
              "                ('NNClassifier',\n",
              "                 MLPClassifier(alpha=1e-05, hidden_layer_sizes=(10, 5),\n",
              "                               random_state=42))])"
            ]
          },
          "metadata": {},
          "execution_count": 9
        }
      ]
    },
    {
      "cell_type": "code",
      "source": [
        "## model evaluation \n",
        "\n",
        "prediction = NLP_model.predict(X_test)\n",
        "\n",
        "np.mean(prediction == y_test)"
      ],
      "metadata": {
        "colab": {
          "base_uri": "https://localhost:8080/"
        },
        "id": "jtRrFP8TXd9N",
        "outputId": "82ff3d11-acc5-42a4-961a-6ca442c36bca"
      },
      "execution_count": 10,
      "outputs": [
        {
          "output_type": "execute_result",
          "data": {
            "text/plain": [
              "0.8816"
            ]
          },
          "metadata": {},
          "execution_count": 10
        }
      ]
    },
    {
      "cell_type": "code",
      "source": [
        "res = []\n",
        "def processing(data):\n",
        "  tokenizer = tf_text.UnicodeScriptTokenizer()\n",
        "  ps = PorterStemmer()\n",
        "\n",
        "  #temp = tokenizer.tokenize(dataset['review'][0])\n",
        "  temp = tokenizer.tokenize(data)\n",
        "  temp = [c for c in data if c not in string.punctuation]\n",
        "\n",
        "  temp = ''.join(temp)\n",
        "  temp = tokenizer.tokenize(temp)\n",
        "  temp = [ps.stem(word.numpy().decode('UTF-8').lower()) for word in temp if not word in stopwords.words('english')]\n",
        "\n",
        "  return temp\n"
      ],
      "metadata": {
        "id": "fTcScVZMbm1c"
      },
      "execution_count": 4,
      "outputs": []
    },
    {
      "cell_type": "code",
      "source": [
        "db = []\n",
        "for i in range(100):\n",
        "    t = processing(dataset['review'][i])\n",
        "    res += t\n",
        "    db.append(t)"
      ],
      "metadata": {
        "id": "xkPBaSv85_WP"
      },
      "execution_count": 5,
      "outputs": []
    },
    {
      "cell_type": "code",
      "source": [
        "len(res)"
      ],
      "metadata": {
        "colab": {
          "base_uri": "https://localhost:8080/"
        },
        "id": "vNNOPUO99VFW",
        "outputId": "477be5b9-97a9-46f1-e990-a8875d890eb9"
      },
      "execution_count": 6,
      "outputs": [
        {
          "output_type": "execute_result",
          "data": {
            "text/plain": [
              "13373"
            ]
          },
          "metadata": {},
          "execution_count": 6
        }
      ]
    },
    {
      "cell_type": "code",
      "source": [
        "new_res = list(set(res))\n",
        "len(new_res)"
      ],
      "metadata": {
        "colab": {
          "base_uri": "https://localhost:8080/"
        },
        "id": "84rFORh3bebW",
        "outputId": "02704feb-e1bc-4a00-eaa7-48ce9789ab9b"
      },
      "execution_count": 8,
      "outputs": [
        {
          "output_type": "execute_result",
          "data": {
            "text/plain": [
              "4011"
            ]
          },
          "metadata": {},
          "execution_count": 8
        }
      ]
    },
    {
      "cell_type": "code",
      "source": [
        "## print sting tokens\n",
        "new_db = []\n",
        "for i in range(len(db)):\n",
        "    t = []\n",
        "    for j in range(len(db[i])):\n",
        "        ind = new_res.index(db[i][j])\n",
        "        t.append(ind)\n",
        "    new_db.append(t)"
      ],
      "metadata": {
        "id": "6GGVfzUsgvVL"
      },
      "execution_count": 10,
      "outputs": []
    },
    {
      "cell_type": "code",
      "source": [
        "model = tf.keras.models.Sequential([\n",
        "            tf.keras.layers.Dense(64, activation=\"relu\"),\n",
        "            tf.keras.layers.Dense(1)                            \n",
        "        ])\n",
        "\n",
        "model.compile(optimizer='adam', loss = tf.keras.losses.BinaryCrossentropy(), metrics=['accuracy'] )"
      ],
      "metadata": {
        "id": "shEHq_Z7synj"
      },
      "execution_count": 17,
      "outputs": []
    },
    {
      "cell_type": "code",
      "source": [
        "batch_y = dataset['sentiment'][:100]"
      ],
      "metadata": {
        "id": "Vu0HxeZstpT5"
      },
      "execution_count": 31,
      "outputs": []
    },
    {
      "cell_type": "code",
      "source": [
        "model = MLPClassifier(alpha=1e-5, hidden_layer_sizes=(10, 5), random_state=42)\n",
        "model.fit(new_db, batch_y)"
      ],
      "metadata": {
        "id": "9GJbUjmXv011"
      },
      "execution_count": null,
      "outputs": []
    },
    {
      "cell_type": "code",
      "source": [
        "batch_y"
      ],
      "metadata": {
        "id": "j2rEG--Rv5LD"
      },
      "execution_count": 27,
      "outputs": []
    },
    {
      "cell_type": "code",
      "source": [
        "dataset['sentiment'] = dataset['sentiment'].astype('category').cat.codes\n",
        "dataset['sentiment']"
      ],
      "metadata": {
        "colab": {
          "base_uri": "https://localhost:8080/"
        },
        "id": "f_ab36Z4u_gq",
        "outputId": "752ba1c3-1467-4663-c3a3-17860b1e1fa3"
      },
      "execution_count": 4,
      "outputs": [
        {
          "output_type": "execute_result",
          "data": {
            "text/plain": [
              "0        1\n",
              "1        1\n",
              "2        1\n",
              "3        0\n",
              "4        1\n",
              "        ..\n",
              "49995    1\n",
              "49996    0\n",
              "49997    0\n",
              "49998    0\n",
              "49999    0\n",
              "Name: sentiment, Length: 50000, dtype: int8"
            ]
          },
          "metadata": {},
          "execution_count": 4
        }
      ]
    },
    {
      "cell_type": "code",
      "source": [
        "ds = tf.data.Dataset.from_tensor_slices((dataset['review'],dataset['sentiment']))\n",
        "ds = ds.batch(32)"
      ],
      "metadata": {
        "id": "0Mzo79lNzCtb"
      },
      "execution_count": 5,
      "outputs": []
    },
    {
      "cell_type": "code",
      "source": [
        "train , val = train_test_split(dataset, test_size= 0.2, random_state=42)"
      ],
      "metadata": {
        "id": "xsgohl0qnh_T"
      },
      "execution_count": 6,
      "outputs": []
    },
    {
      "cell_type": "code",
      "source": [
        "train_ds = tf.data.Dataset.from_tensor_slices((train['review'],train['sentiment']))\n",
        "train_ds = train_ds.batch(32)\n",
        "\n",
        "val_ds = tf.data.Dataset.from_tensor_slices((val['review'], val['sentiment']))\n",
        "val_ds = val_ds.batch(32)\n"
      ],
      "metadata": {
        "id": "xigsG_VonjM9"
      },
      "execution_count": 7,
      "outputs": []
    },
    {
      "cell_type": "code",
      "source": [
        "def custom_standardization(input_data):\n",
        "  lowercase = tf.strings.lower(input_data)\n",
        "  stripped_html = tf.strings.regex_replace(lowercase, '<br />', ' ')\n",
        "  return tf.strings.regex_replace(stripped_html,'[%s]' % re.escape(string.punctuation), '')\n",
        "\n",
        "vectorize_layer = tf.keras.layers.TextVectorization(standardize = custom_standardization,\n",
        "                    max_tokens = 10000,\n",
        "                    output_mode = 'int',\n",
        "                    output_sequence_length = 250)\n",
        "\n",
        "def vectorize_text(text, label):\n",
        "  text = tf.expand_dims(text, -1)\n",
        "  return vectorize_layer(text), label"
      ],
      "metadata": {
        "id": "xODCMCuiqmWa"
      },
      "execution_count": 8,
      "outputs": []
    },
    {
      "cell_type": "code",
      "source": [
        "train_text = train_ds.map(lambda x, y: x)\n",
        "vectorize_layer.adapt(train_text)"
      ],
      "metadata": {
        "id": "1-T5hTvqqyEL"
      },
      "execution_count": 9,
      "outputs": []
    },
    {
      "cell_type": "code",
      "source": [
        "text_batch, label_batch = next(iter(train_ds))\n",
        "first_review, first_label = text_batch[0], label_batch[0]\n",
        "\n",
        "print(vectorize_text(first_review, first_label))"
      ],
      "metadata": {
        "colab": {
          "base_uri": "https://localhost:8080/"
        },
        "id": "A0F0aiqDriZ_",
        "outputId": "3aa85a2e-e4f2-4aae-bd1a-c77fd51f344d"
      },
      "execution_count": 10,
      "outputs": [
        {
          "output_type": "stream",
          "name": "stdout",
          "text": [
            "(<tf.Tensor: shape=(1, 250), dtype=int64, numpy=\n",
            "array([[ 176,   48,   10,  777, 2088,  518,  293,    2,  105, 1906, 1973,\n",
            "        4243, 6434,    3,  801, 4882,   12,    1,    2,    1,  224,    2,\n",
            "        6020,   80,  883,   56,   52,   22,  102,    5,    2, 4183,  100,\n",
            "          36,   25,   37,  117, 1148,   12,    9,    7, 2300, 1169,    6,\n",
            "         446,   48,  541,    6,   91,   34,   23,   39,  921,  422,    1,\n",
            "          15,    2,  172,    6, 3089,   24,    1, 4301,   20,    4, 2911,\n",
            "          12,   45,   74,  222,   73,  123,    8,   81, 3039,  191,   20,\n",
            "         240,    3,    2,  443,   10,  212, 4947,  141,   21,   62,   27,\n",
            "          15,    1,   76,  354,  293,    4,   19,   18,    9,  212,   26,\n",
            "         300,   12,    1,    1,   14,    2, 8662,    1,  115,  439,    3,\n",
            "           1,    1,   14,    2, 1650,    1,  635,   66,  414,  370,   10,\n",
            "          89,  116,   48,  112,  382,   34,    1,   35,   18,   43,   10,\n",
            "          13,   91,  462, 6765,   15,    4,  371,    1, 2045,    1,   60,\n",
            "           1,    1,    8,    2,  469,  217,  987,    6, 4145,    8,    4,\n",
            "         175,    5, 3117,  684,  616,   12,   70,  234,  109,  825,   35,\n",
            "         170,   30,  214,  176,    2,  417,  358,   58, 3844,    4,  271,\n",
            "           1,  155, 1658,  190,    7,    2,    1,    1,  710, 1868,    2,\n",
            "        1165,    5, 2995,    1, 3741, 1825,    3,    1,  147,  141,    4,\n",
            "         226,    5,    4,  204,  317,    3,  141, 1067,   16,   87,    5,\n",
            "         130, 2602, 8634,   18,   10,  149, 9186,   99,    5,    2, 4012,\n",
            "         293,   11,   17,  977,   35,    2,    1,  515,    1,  243,   71,\n",
            "          75,  105,  105,  688, 9845,   61,    1,   85,   66, 1312,    6,\n",
            "         228,  130,   23, 4303,   32,  136,    1,  202]])>, <tf.Tensor: shape=(), dtype=int8, numpy=0>)\n"
          ]
        }
      ]
    },
    {
      "cell_type": "code",
      "source": [
        "train_ds = train_ds.map(vectorize_text)\n",
        "val_ds = val_ds.map(vectorize_text)\n",
        "\n"
      ],
      "metadata": {
        "id": "NNzyTzhAr1YT"
      },
      "execution_count": 11,
      "outputs": []
    },
    {
      "cell_type": "code",
      "source": [
        "AUTOTUNE = tf.data.AUTOTUNE\n",
        "\n",
        "train_ds = train_ds.cache().prefetch(buffer_size=AUTOTUNE)\n",
        "val_ds = val_ds.cache().prefetch(buffer_size=AUTOTUNE)\n"
      ],
      "metadata": {
        "id": "TdxGsDwWrmo3"
      },
      "execution_count": 12,
      "outputs": []
    },
    {
      "cell_type": "code",
      "source": [
        "model = tf.keras.Sequential([\n",
        "  layers.Embedding(250 + 1, 16),\n",
        "  layers.Dropout(0.2),\n",
        "  layers.GlobalAveragePooling1D(),\n",
        "  layers.Dropout(0.2),\n",
        "  layers.Dense(1)])\n",
        "\n",
        "model.summary()"
      ],
      "metadata": {
        "colab": {
          "base_uri": "https://localhost:8080/"
        },
        "id": "P5tdeysatKwW",
        "outputId": "d44cb7c7-961a-4025-8974-bb12630f521f"
      },
      "execution_count": 13,
      "outputs": [
        {
          "output_type": "stream",
          "name": "stdout",
          "text": [
            "Model: \"sequential\"\n",
            "_________________________________________________________________\n",
            " Layer (type)                Output Shape              Param #   \n",
            "=================================================================\n",
            " embedding (Embedding)       (None, None, 16)          4016      \n",
            "                                                                 \n",
            " dropout (Dropout)           (None, None, 16)          0         \n",
            "                                                                 \n",
            " global_average_pooling1d (G  (None, 16)               0         \n",
            " lobalAveragePooling1D)                                          \n",
            "                                                                 \n",
            " dropout_1 (Dropout)         (None, 16)                0         \n",
            "                                                                 \n",
            " dense (Dense)               (None, 1)                 17        \n",
            "                                                                 \n",
            "=================================================================\n",
            "Total params: 4,033\n",
            "Trainable params: 4,033\n",
            "Non-trainable params: 0\n",
            "_________________________________________________________________\n"
          ]
        }
      ]
    },
    {
      "cell_type": "code",
      "source": [
        "model.compile(loss = tf.keras.losses.BinaryCrossentropy(from_logits=True),\n",
        "              optimizer='adam',\n",
        "              metrics = tf.metrics.BinaryAccuracy(threshold=0.0))"
      ],
      "metadata": {
        "id": "EbP94FKRtaBp"
      },
      "execution_count": 14,
      "outputs": []
    },
    {
      "cell_type": "code",
      "source": [
        "history = model.fit(train_ds, validation_data= val_ds, epochs=20)"
      ],
      "metadata": {
        "colab": {
          "base_uri": "https://localhost:8080/"
        },
        "id": "V8dTzAREtp48",
        "outputId": "cd08eb67-b446-4486-fe27-6d5fae2c094b"
      },
      "execution_count": 15,
      "outputs": [
        {
          "output_type": "stream",
          "name": "stdout",
          "text": [
            "Epoch 1/20\n",
            "1250/1250 [==============================] - 13s 9ms/step - loss: 0.6528 - binary_accuracy: 0.6613 - val_loss: 0.5905 - val_binary_accuracy: 0.7329\n",
            "Epoch 2/20\n",
            "1250/1250 [==============================] - 9s 7ms/step - loss: 0.5522 - binary_accuracy: 0.7428 - val_loss: 0.5148 - val_binary_accuracy: 0.7637\n",
            "Epoch 3/20\n",
            "1250/1250 [==============================] - 9s 7ms/step - loss: 0.5066 - binary_accuracy: 0.7621 - val_loss: 0.4888 - val_binary_accuracy: 0.7701\n",
            "Epoch 4/20\n",
            "1250/1250 [==============================] - 9s 7ms/step - loss: 0.4900 - binary_accuracy: 0.7686 - val_loss: 0.4788 - val_binary_accuracy: 0.7765\n",
            "Epoch 5/20\n",
            "1250/1250 [==============================] - 9s 7ms/step - loss: 0.4831 - binary_accuracy: 0.7719 - val_loss: 0.4748 - val_binary_accuracy: 0.7769\n",
            "Epoch 6/20\n",
            "1250/1250 [==============================] - 9s 7ms/step - loss: 0.4793 - binary_accuracy: 0.7735 - val_loss: 0.4720 - val_binary_accuracy: 0.7769\n",
            "Epoch 7/20\n",
            "1250/1250 [==============================] - 9s 7ms/step - loss: 0.4781 - binary_accuracy: 0.7752 - val_loss: 0.4711 - val_binary_accuracy: 0.7783\n",
            "Epoch 8/20\n",
            "1250/1250 [==============================] - 9s 7ms/step - loss: 0.4772 - binary_accuracy: 0.7764 - val_loss: 0.4702 - val_binary_accuracy: 0.7785\n",
            "Epoch 9/20\n",
            "1250/1250 [==============================] - 9s 7ms/step - loss: 0.4760 - binary_accuracy: 0.7762 - val_loss: 0.4701 - val_binary_accuracy: 0.7790\n",
            "Epoch 10/20\n",
            "1250/1250 [==============================] - 9s 7ms/step - loss: 0.4752 - binary_accuracy: 0.7776 - val_loss: 0.4697 - val_binary_accuracy: 0.7797\n",
            "Epoch 11/20\n",
            "1250/1250 [==============================] - 9s 7ms/step - loss: 0.4747 - binary_accuracy: 0.7768 - val_loss: 0.4694 - val_binary_accuracy: 0.7792\n",
            "Epoch 12/20\n",
            "1250/1250 [==============================] - 9s 7ms/step - loss: 0.4742 - binary_accuracy: 0.7768 - val_loss: 0.4692 - val_binary_accuracy: 0.7800\n",
            "Epoch 13/20\n",
            "1250/1250 [==============================] - 9s 7ms/step - loss: 0.4750 - binary_accuracy: 0.7759 - val_loss: 0.4691 - val_binary_accuracy: 0.7797\n",
            "Epoch 14/20\n",
            "1250/1250 [==============================] - 8s 7ms/step - loss: 0.4748 - binary_accuracy: 0.7759 - val_loss: 0.4690 - val_binary_accuracy: 0.7809\n",
            "Epoch 15/20\n",
            "1250/1250 [==============================] - 9s 7ms/step - loss: 0.4734 - binary_accuracy: 0.7775 - val_loss: 0.4689 - val_binary_accuracy: 0.7807\n",
            "Epoch 16/20\n",
            "1250/1250 [==============================] - 9s 7ms/step - loss: 0.4747 - binary_accuracy: 0.7772 - val_loss: 0.4689 - val_binary_accuracy: 0.7805\n",
            "Epoch 17/20\n",
            "1250/1250 [==============================] - 9s 7ms/step - loss: 0.4736 - binary_accuracy: 0.7765 - val_loss: 0.4687 - val_binary_accuracy: 0.7810\n",
            "Epoch 18/20\n",
            "1250/1250 [==============================] - 9s 7ms/step - loss: 0.4738 - binary_accuracy: 0.7770 - val_loss: 0.4689 - val_binary_accuracy: 0.7796\n",
            "Epoch 19/20\n",
            "1250/1250 [==============================] - 9s 7ms/step - loss: 0.4742 - binary_accuracy: 0.7781 - val_loss: 0.4688 - val_binary_accuracy: 0.7806\n",
            "Epoch 20/20\n",
            "1250/1250 [==============================] - 9s 7ms/step - loss: 0.4742 - binary_accuracy: 0.7774 - val_loss: 0.4688 - val_binary_accuracy: 0.7807\n"
          ]
        }
      ]
    },
    {
      "cell_type": "code",
      "source": [
        "plt.plot(history.history['loss'])\n",
        "plt.plot(history.history['val_loss'])"
      ],
      "metadata": {
        "colab": {
          "base_uri": "https://localhost:8080/",
          "height": 282
        },
        "id": "x-y4QMoBtyZU",
        "outputId": "40819844-3037-413d-82d3-e6970db4b4ea"
      },
      "execution_count": 16,
      "outputs": [
        {
          "output_type": "execute_result",
          "data": {
            "text/plain": [
              "[<matplotlib.lines.Line2D at 0x7f94602c4b10>]"
            ]
          },
          "metadata": {},
          "execution_count": 16
        },
        {
          "output_type": "display_data",
          "data": {
            "image/png": "[encoded data removed]",
            "text/plain": [
              "<Figure size 432x288 with 1 Axes>"
            ]
          },
          "metadata": {
            "needs_background": "light"
          }
        }
      ]
    },
    {
      "cell_type": "code",
      "source": [
        ""
      ],
      "metadata": {
        "id": "Al4TAdmGxJ7F"
      },
      "execution_count": null,
      "outputs": []
    }
  ]
}